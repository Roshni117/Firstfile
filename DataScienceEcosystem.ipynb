{
 "cells": [
  {
   "cell_type": "markdown",
   "id": "f27004fb-b768-4fcd-a158-54fb2d2125c2",
   "metadata": {},
   "source": [
    "# Data Science Tools and Ecosystem "
   ]
  },
  {
   "cell_type": "markdown",
   "id": "8c3d71ad-cdd5-42a4-93a8-61d2858adaad",
   "metadata": {},
   "source": [
    "In this notebook, Data Science Tools and Ecosystem are summarized."
   ]
  },
  {
   "cell_type": "markdown",
   "id": "6ee1adc6-902c-4cdb-9463-121430bc2135",
   "metadata": {},
   "source": [
    "Some of the popular languages that Data Scientists use are:\n",
    "1. Python \n",
    "2. SQL\n",
    "3. Julia\n",
    "4. Javascript \n",
    "5. C++"
   ]
  },
  {
   "cell_type": "markdown",
   "id": "0d4cd6e5-b486-4bb1-a733-da0c7dff9a87",
   "metadata": {},
   "source": [
    "Some of the commonly used libraries used by Data Scientists include:\n",
    "1. Matplotlib\n",
    "2. Scikitlearn\n",
    "3. Keras\n",
    "4. Pandas\n",
    "5. Apache Spark "
   ]
  },
  {
   "cell_type": "markdown",
   "id": "7d0124da-c15b-4ebd-8c36-ef33b645b393",
   "metadata": {},
   "source": [
    "|Data Science Tools|\n",
    "|-------------------|\n",
    "|Jupyter Notebook|\n",
    "|Anaconda|\n",
    "|Spyder|\n",
    "|RStudio|\n",
    "|Zeppelin|\n"
   ]
  },
  {
   "cell_type": "markdown",
   "id": "e322fc9e-7712-45c1-9f79-ce16fcbb630a",
   "metadata": {},
   "source": [
    "### Below are a few examples of evaluating arithmetic expressions in Python. \n",
    "\n",
    "#### It may include mathematical operations like:\n",
    "\n",
    "1. a+b\n",
    "2. a-b\n",
    "3. a/b\n",
    "4. a*b"
   ]
  },
  {
   "cell_type": "code",
   "execution_count": 1,
   "id": "c2d7636d-e754-41e7-bbf8-07688c7ae285",
   "metadata": {},
   "outputs": [
    {
     "data": {
      "text/plain": [
       "17"
      ]
     },
     "execution_count": 1,
     "metadata": {},
     "output_type": "execute_result"
    }
   ],
   "source": [
    "#This a simple arithmetic expression to mutiply then add integers.\n",
    "\n",
    "(3*4)+5"
   ]
  },
  {
   "cell_type": "code",
   "execution_count": 2,
   "id": "a0b5f78a-a531-435a-86b8-2f57f1a72e5e",
   "metadata": {},
   "outputs": [
    {
     "data": {
      "text/plain": [
       "3.3333333333333335"
      ]
     },
     "execution_count": 2,
     "metadata": {},
     "output_type": "execute_result"
    }
   ],
   "source": [
    "#This will convert 200 minutes to hours by diving by 60.\n",
    "\n",
    "200/60"
   ]
  },
  {
   "cell_type": "markdown",
   "id": "f48e13c6-de4c-43ef-8dc0-bab3ca52a1ae",
   "metadata": {},
   "source": [
    "**Objectives:** \n",
    "\n",
    "* In this course we learnt about Data science categories which can be classified as Execution environment, \n",
    "  Data Asset Management, Code Asset Management and Development Environments. \n",
    "\n",
    "* Data Asset Management can be further classified as Data management, Data integration and Transformation, Data visualization,\n",
    "  model building, model deployment and model monitoring and assessment. \n",
    "\n",
    "* Some of the popular languages in Data Science are Python, SQL, Scala, Java, Javascript and Ruby. \n",
    "\n",
    "* Some of the commonly used libraries used in Data Science are Pandas, Pytorch, Keras, Scikitlearn and Matplotlib. \n",
    "\n",
    "* Some of the Data Science Tools are Spyder, RStudio, Anaconda, Jupyter Notebook and Anaconda. "
   ]
  },
  {
   "cell_type": "markdown",
   "id": "adbc8e5f-3919-4760-b64b-eee93ccb4f3d",
   "metadata": {},
   "source": [
    "## AUTHOR \n",
    "\n",
    "### Roshni K"
   ]
  },
  {
   "cell_type": "code",
   "execution_count": null,
   "id": "9f3745f8-0d2c-4b6e-9d14-eace851c1fb2",
   "metadata": {},
   "outputs": [],
   "source": []
  }
 ],
 "metadata": {
  "kernelspec": {
   "display_name": "Python 3 (ipykernel)",
   "language": "python",
   "name": "python3"
  },
  "language_info": {
   "codemirror_mode": {
    "name": "ipython",
    "version": 3
   },
   "file_extension": ".py",
   "mimetype": "text/x-python",
   "name": "python",
   "nbconvert_exporter": "python",
   "pygments_lexer": "ipython3",
   "version": "3.11.9"
  }
 },
 "nbformat": 4,
 "nbformat_minor": 5
}
